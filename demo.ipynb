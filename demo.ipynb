{
 "cells": [
  {
   "cell_type": "markdown",
   "id": "743af5b2",
   "metadata": {},
   "source": [
    "• Feature Selection\n",
    "\n",
    "_Selecting features based on information gain (mutual_info_regression) and correlation matrix_"
   ]
  },
  {
   "cell_type": "code",
   "execution_count": 2,
   "id": "6731574d",
   "metadata": {},
   "outputs": [],
   "source": [
    "from sklearn.feature_selection import SelectKBest\n",
    "from sklearn.feature_selection import mutual_info_regression"
   ]
  },
  {
   "cell_type": "code",
   "execution_count": null,
   "id": "530c5d15",
   "metadata": {},
   "outputs": [],
   "source": [
    "plt.figure(figsize=(10,10))\n",
    "g = sns.barplot(x=X.columns, y=fs.scores_)\n",
    "p = plt.title('Mutual Information Gain plot')\n",
    "p = plt.xlabel('Feature name')\n",
    "p = plt.ylabel('Information Gain')\n",
    "p = g.set_xticklabels(g.get_xticklabels(), rotation=45, horizontalalignment='right')"
   ]
  },
  {
   "cell_type": "code",
   "execution_count": null,
   "id": "7087c835",
   "metadata": {},
   "outputs": [],
   "source": [
    "feature_imp = pd.DataFrame(fs.scores_, columns=['Score'], index=X.columns)\n",
    "top20_feature = feature_imp.nlargest(n=20, columns=['Score'])\n",
    "\n",
    "plt.figure(figsize=(8,8))\n",
    "g = sns.barplot(x=top20_feature.index, y=top20_feature['Score'])\n",
    "p = plt.title('Top 20 Features with mutual information gain')\n",
    "p = plt.xlabel('Feature name')\n",
    "p = plt.ylabel('Information Gain')\n",
    "p = g.set_xticklabels(g.get_xticklabels(), rotation=45, horizontalalignment='right')"
   ]
  },
  {
   "cell_type": "code",
   "execution_count": null,
   "id": "7e621189",
   "metadata": {},
   "outputs": [],
   "source": [
    "# Finding and plotting the correlation matrix for top20 features\n",
    "import numpy as np\n",
    "cmap = sns.diverging_palette(220, 10, as_cmap=True)\n",
    "plt.figure(figsize=(15, 15))\n",
    "corr = X[top20_feature.index].corr()\n",
    "\n",
    "# Generate a mask for the upper triangle\n",
    "mask = np.triu(np.ones_like(corr, dtype=np.bool))\n",
    "\n",
    "g = sns.heatmap(corr, annot=True, mask=mask, vmax=0.3, center=0, cmap=cmap, square=True, linewidths=0.05)\n",
    "p = plt.title('Correlation matrix')"
   ]
  },
  {
   "cell_type": "code",
   "execution_count": null,
   "id": "126fd45b",
   "metadata": {},
   "outputs": [],
   "source": [
    "X = X[top20_feature.index]\n",
    "##X.drop(labels=['Revenue', 'Size'], axis=1, inplace=True)"
   ]
  },
  {
   "cell_type": "code",
   "execution_count": null,
   "id": "f0ab071b",
   "metadata": {},
   "outputs": [],
   "source": [
    "# Finding and plotting the correlation matrix for top 18 features\n",
    "\n",
    "cmap = sns.diverging_palette(220, 10, as_cmap=True)\n",
    "plt.figure(figsize=(15, 15))\n",
    "corr = X.corr()\n",
    "\n",
    "# Generate a mask for the upper triangle\n",
    "mask = np.triu(np.ones_like(corr, dtype=np.bool))\n",
    "\n",
    "g = sns.heatmap(corr, annot=True, mask=mask, vmax=0.3, center=0, cmap=cmap, square=True, linewidths=0.05)\n",
    "p = plt.title('Correlation matrix after removing highly correlated features')"
   ]
  },
  {
   "cell_type": "code",
   "execution_count": null,
   "id": "68bdd36c",
   "metadata": {},
   "outputs": [],
   "source": [
    "from sklearn.preprocessing import StandardScaler\n",
    "X_prev = X.copy()\n",
    "\n",
    "sc_rating = StandardScaler()\n",
    "X['Rating'] = sc_rating.fit_transform(X[['Rating']])\n",
    "\n",
    "sc_founded = StandardScaler()\n",
    "X['Age'] = sc_founded.fit_transform(X[['Age']])"
   ]
  },
  {
   "cell_type": "code",
   "execution_count": null,
   "id": "e3b7a8d1",
   "metadata": {},
   "outputs": [],
   "source": [
    "# Get features list\n",
    "characteristics = X.columns"
   ]
  },
  {
   "cell_type": "code",
   "execution_count": null,
   "id": "fe6d4fbc",
   "metadata": {},
   "outputs": [],
   "source": [
    "# Get the variables importances, sort them, and print the result\n",
    "importances = list(rf.feature_importances_)\n",
    "characteristics_importances = [(characteristic, round(importance, 2)) for characteristic, importance in zip(characteristics, importances)]\n",
    "characteristics_importances = sorted(characteristics_importances, key = lambda x: x[1], reverse = True)\n",
    "[print('Variable: {:20} Importance: {}'.format(*pair)) for pair in characteristics_importances];"
   ]
  },
  {
   "cell_type": "code",
   "execution_count": null,
   "id": "8ab76ffa",
   "metadata": {},
   "outputs": [],
   "source": [
    "# Visualize the variables importances\n",
    "plt.bar(characteristics, importances, orientation = 'vertical')\n",
    "plt.xticks(rotation = 'vertical')\n",
    "plt.ylabel('Importance')\n",
    "plt.xlabel('Variable')\n",
    "plt.grid(axis = 'y', color = '#D3D3D3', linestyle = 'solid')\n",
    "plt.show()"
   ]
  },
  {
   "cell_type": "code",
   "execution_count": null,
   "id": "32513560",
   "metadata": {},
   "outputs": [],
   "source": []
  },
  {
   "cell_type": "code",
   "execution_count": null,
   "id": "6fafa1ac",
   "metadata": {},
   "outputs": [],
   "source": []
  },
  {
   "cell_type": "code",
   "execution_count": null,
   "id": "92a34263",
   "metadata": {},
   "outputs": [],
   "source": []
  },
  {
   "cell_type": "code",
   "execution_count": null,
   "id": "b25f15ce",
   "metadata": {},
   "outputs": [],
   "source": []
  }
 ],
 "metadata": {
  "kernelspec": {
   "display_name": "Python 3",
   "language": "python",
   "name": "python3"
  },
  "language_info": {
   "codemirror_mode": {
    "name": "ipython",
    "version": 3
   },
   "file_extension": ".py",
   "mimetype": "text/x-python",
   "name": "python",
   "nbconvert_exporter": "python",
   "pygments_lexer": "ipython3",
   "version": "3.8.8"
  }
 },
 "nbformat": 4,
 "nbformat_minor": 5
}
